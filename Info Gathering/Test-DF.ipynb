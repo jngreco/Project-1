{
 "cells": [
  {
   "cell_type": "code",
   "execution_count": 3,
   "id": "b1907b08-1022-44fd-aa00-b7d5e85612d4",
   "metadata": {},
   "outputs": [],
   "source": [
    "import matplotlib.pyplot as plt\n",
    "import pandas as pd\n",
    "import scipy.stats as st\n",
    "import numpy as np"
   ]
  },
  {
   "cell_type": "code",
   "execution_count": 6,
   "id": "a62e97bf-3ece-4264-90f9-b8578e0cbcc5",
   "metadata": {},
   "outputs": [],
   "source": [
    "path = \"Resources/SGO-2021-01_Incident_Reports_ADS.csv\""
   ]
  },
  {
   "cell_type": "code",
   "execution_count": 7,
   "id": "fb997b75-b03a-4bdb-b265-92d85c5342d6",
   "metadata": {},
   "outputs": [],
   "source": [
    "crash_data = pd.read_csv(path)"
   ]
  },
  {
   "cell_type": "code",
   "execution_count": 11,
   "id": "bb5701d6-d3ef-4c2c-8071-b5b5f98b0f20",
   "metadata": {},
   "outputs": [
    {
     "data": {
      "text/plain": [
       "array(['Navya', 'Jaguar', 'Mercedes-Benz', 'Toyota', 'Lexus', 'Peterbilt',\n",
       "       'Ford', 'Polestar', 'Cruise', 'Ligier', 'Kenworth', 'Chrysler',\n",
       "       'Kenworth Motor Truck Co', 'LExus', 'Ligier Group', 'Freightliner',\n",
       "       'FREIGHTLINER', 'Lucid', 'International', 'Hyundai', nan,\n",
       "       'INTERNATIONAL', 'Jeep', 'EQS', 'Chevrolet', 'EZ10', 'Nissan',\n",
       "       'NAVYA', 'Local Motors', 'OLLI', 'Lincoln'], dtype=object)"
      ]
     },
     "execution_count": 11,
     "metadata": {},
     "output_type": "execute_result"
    }
   ],
   "source": [
    "crash_data[\"Make\"].unique()"
   ]
  },
  {
   "cell_type": "code",
   "execution_count": 12,
   "id": "d3871848-0835-46a6-9148-7b90b8a7c64c",
   "metadata": {},
   "outputs": [
    {
     "data": {
      "text/plain": [
       "array(['ARMA', 'I-Pace', 'S450', 'Highlander', 'Sienna', 'RX450H',\n",
       "       'RX450h', '579', 'Escape', '579 Epiq', 'Polestar 2', 'AV',\n",
       "       'EZ10 Gen 3', 'T680', 'Pacifica', 'Cascadia', 'CASCADIA', 'Dream',\n",
       "       'RX 450h', 'Fusion', 'LT625', 'Ioniq 5', 'S350D', 'Kona EV', nan,\n",
       "       'I-PACE', 'LT 625', 'LT', 'Grand Cherokee', 'EQS 450 4Matic',\n",
       "       '450 4matic', 'Bolt', 'GEN2', 'Leaf SL', 'Kona/EV', 'Arma ',\n",
       "       'Olli 1.0', '1', 'Olli', 'MKZ'], dtype=object)"
      ]
     },
     "execution_count": 12,
     "metadata": {},
     "output_type": "execute_result"
    }
   ],
   "source": [
    "crash_data[\"Model\"].unique()"
   ]
  },
  {
   "cell_type": "code",
   "execution_count": 13,
   "id": "070ce254-b970-44bb-8250-031574f4b577",
   "metadata": {},
   "outputs": [
    {
     "data": {
      "text/plain": [
       "array([2018., 2021., 2016., 2020., 2022., 2019., 2017.,   nan])"
      ]
     },
     "execution_count": 13,
     "metadata": {},
     "output_type": "execute_result"
    }
   ],
   "source": [
    "crash_data[\"Model Year\"].unique()"
   ]
  },
  {
   "cell_type": "code",
   "execution_count": 17,
   "id": "592fb6ec-58d6-476b-b19f-8c7808c7c134",
   "metadata": {},
   "outputs": [
    {
     "data": {
      "text/html": [
       "<div>\n",
       "<style scoped>\n",
       "    .dataframe tbody tr th:only-of-type {\n",
       "        vertical-align: middle;\n",
       "    }\n",
       "\n",
       "    .dataframe tbody tr th {\n",
       "        vertical-align: top;\n",
       "    }\n",
       "\n",
       "    .dataframe thead th {\n",
       "        text-align: right;\n",
       "    }\n",
       "</style>\n",
       "<table border=\"1\" class=\"dataframe\">\n",
       "  <thead>\n",
       "    <tr style=\"text-align: right;\">\n",
       "      <th></th>\n",
       "      <th>Make</th>\n",
       "      <th>Model</th>\n",
       "      <th>Model Year</th>\n",
       "      <th>Driver / Operator Type</th>\n",
       "      <th>Incident Date</th>\n",
       "      <th>Incident Time (24:00)</th>\n",
       "      <th>City</th>\n",
       "      <th>State</th>\n",
       "      <th>Roadway Type</th>\n",
       "      <th>Roadway Surface</th>\n",
       "      <th>Roadway Description</th>\n",
       "      <th>Crash With</th>\n",
       "      <th>Highest Injury Severity</th>\n",
       "      <th>CP Any Air Bags Deployed?</th>\n",
       "    </tr>\n",
       "  </thead>\n",
       "  <tbody>\n",
       "    <tr>\n",
       "      <th>0</th>\n",
       "      <td>Navya</td>\n",
       "      <td>ARMA</td>\n",
       "      <td>2018.0</td>\n",
       "      <td>In-Vehicle (Commercial / Test)</td>\n",
       "      <td>Dec-22</td>\n",
       "      <td>17:53</td>\n",
       "      <td>Port Saint Lucie</td>\n",
       "      <td>FL</td>\n",
       "      <td>Street</td>\n",
       "      <td>Dry</td>\n",
       "      <td>No Unusual Conditions</td>\n",
       "      <td>Passenger Car</td>\n",
       "      <td>No Injuries Reported</td>\n",
       "      <td>No</td>\n",
       "    </tr>\n",
       "    <tr>\n",
       "      <th>1</th>\n",
       "      <td>Jaguar</td>\n",
       "      <td>I-Pace</td>\n",
       "      <td>2021.0</td>\n",
       "      <td>In-Vehicle (Commercial / Test)</td>\n",
       "      <td>Nov-22</td>\n",
       "      <td>16:30</td>\n",
       "      <td>San Francisco</td>\n",
       "      <td>CA</td>\n",
       "      <td>Street</td>\n",
       "      <td>Dry</td>\n",
       "      <td>No Unusual Conditions</td>\n",
       "      <td>SUV</td>\n",
       "      <td>No Injuries Reported</td>\n",
       "      <td>No</td>\n",
       "    </tr>\n",
       "    <tr>\n",
       "      <th>2</th>\n",
       "      <td>Jaguar</td>\n",
       "      <td>I-Pace</td>\n",
       "      <td>2021.0</td>\n",
       "      <td>In-Vehicle (Commercial / Test)</td>\n",
       "      <td>Nov-22</td>\n",
       "      <td>9:34</td>\n",
       "      <td>San Francisco</td>\n",
       "      <td>CA</td>\n",
       "      <td>Intersection</td>\n",
       "      <td>Wet</td>\n",
       "      <td>No Unusual Conditions</td>\n",
       "      <td>Passenger Car</td>\n",
       "      <td>No Injuries Reported</td>\n",
       "      <td>Unknown</td>\n",
       "    </tr>\n",
       "    <tr>\n",
       "      <th>3</th>\n",
       "      <td>Jaguar</td>\n",
       "      <td>I-Pace</td>\n",
       "      <td>2021.0</td>\n",
       "      <td>In-Vehicle (Commercial / Test)</td>\n",
       "      <td>Nov-22</td>\n",
       "      <td>16:30</td>\n",
       "      <td>San Francisco</td>\n",
       "      <td>CA</td>\n",
       "      <td>Street</td>\n",
       "      <td>Dry</td>\n",
       "      <td>No Unusual Conditions</td>\n",
       "      <td>SUV</td>\n",
       "      <td>No Injuries Reported</td>\n",
       "      <td>No</td>\n",
       "    </tr>\n",
       "    <tr>\n",
       "      <th>4</th>\n",
       "      <td>Jaguar</td>\n",
       "      <td>I-Pace</td>\n",
       "      <td>2021.0</td>\n",
       "      <td>In-Vehicle (Commercial / Test)</td>\n",
       "      <td>Nov-22</td>\n",
       "      <td>9:34</td>\n",
       "      <td>San Francisco</td>\n",
       "      <td>CA</td>\n",
       "      <td>Intersection</td>\n",
       "      <td>Wet</td>\n",
       "      <td>No Unusual Conditions</td>\n",
       "      <td>Passenger Car</td>\n",
       "      <td>No Injuries Reported</td>\n",
       "      <td>Unknown</td>\n",
       "    </tr>\n",
       "  </tbody>\n",
       "</table>\n",
       "</div>"
      ],
      "text/plain": [
       "     Make   Model  Model Year          Driver / Operator Type Incident Date  \\\n",
       "0   Navya    ARMA      2018.0  In-Vehicle (Commercial / Test)        Dec-22   \n",
       "1  Jaguar  I-Pace      2021.0  In-Vehicle (Commercial / Test)        Nov-22   \n",
       "2  Jaguar  I-Pace      2021.0  In-Vehicle (Commercial / Test)        Nov-22   \n",
       "3  Jaguar  I-Pace      2021.0  In-Vehicle (Commercial / Test)        Nov-22   \n",
       "4  Jaguar  I-Pace      2021.0  In-Vehicle (Commercial / Test)        Nov-22   \n",
       "\n",
       "  Incident Time (24:00)              City State  Roadway Type Roadway Surface  \\\n",
       "0                 17:53  Port Saint Lucie   FL         Street             Dry   \n",
       "1                 16:30     San Francisco   CA         Street             Dry   \n",
       "2                  9:34     San Francisco   CA   Intersection             Wet   \n",
       "3                 16:30     San Francisco   CA         Street             Dry   \n",
       "4                  9:34     San Francisco   CA   Intersection             Wet   \n",
       "\n",
       "     Roadway Description     Crash With Highest Injury Severity  \\\n",
       "0  No Unusual Conditions  Passenger Car    No Injuries Reported   \n",
       "1  No Unusual Conditions            SUV    No Injuries Reported   \n",
       "2  No Unusual Conditions  Passenger Car    No Injuries Reported   \n",
       "3  No Unusual Conditions            SUV    No Injuries Reported   \n",
       "4  No Unusual Conditions  Passenger Car    No Injuries Reported   \n",
       "\n",
       "  CP Any Air Bags Deployed?  \n",
       "0                        No  \n",
       "1                        No  \n",
       "2                   Unknown  \n",
       "3                        No  \n",
       "4                   Unknown  "
      ]
     },
     "execution_count": 17,
     "metadata": {},
     "output_type": "execute_result"
    }
   ],
   "source": [
    "clean_crash = crash_data.loc[:, [\"Make\", \"Model\",\"Model Year\",\"Driver / Operator Type\", \"Incident Date\", \n",
    "                                      \"Incident Time (24:00)\",\"City\", \"State\", \"Roadway Type\", \"Roadway Surface\", \n",
    "                                     \"Roadway Description\", \"Crash With\", \"Highest Injury Severity\", \"CP Any Air Bags Deployed?\"]]\n",
    "clean_crash.head()"
   ]
  },
  {
   "cell_type": "code",
   "execution_count": 25,
   "id": "17393fc0-a7d8-4292-b751-fd62336acb19",
   "metadata": {},
   "outputs": [
    {
     "data": {
      "text/plain": [
       "array(['Navya', 'Jaguar', 'Mercedes-Benz', 'Toyota', 'Lexus', 'Peterbilt',\n",
       "       'Ford', 'Polestar', 'Cruise', 'Ligier', 'Kenworth', 'Chrysler',\n",
       "       'Kenworth Motor Truck Co', 'LExus', 'Ligier Group', 'Freightliner',\n",
       "       'FREIGHTLINER', 'Lucid', 'International', 'Hyundai', nan,\n",
       "       'INTERNATIONAL', 'Jeep', 'EQS', 'Chevrolet', 'EZ10', 'Nissan',\n",
       "       'NAVYA', 'Local Motors', 'OLLI', 'Lincoln'], dtype=object)"
      ]
     },
     "execution_count": 25,
     "metadata": {},
     "output_type": "execute_result"
    }
   ],
   "source": [
    "clean_crash[\"Make\"].unique()"
   ]
  }
 ],
 "metadata": {
  "kernelspec": {
   "display_name": "Python 3 (ipykernel)",
   "language": "python",
   "name": "python3"
  },
  "language_info": {
   "codemirror_mode": {
    "name": "ipython",
    "version": 3
   },
   "file_extension": ".py",
   "mimetype": "text/x-python",
   "name": "python",
   "nbconvert_exporter": "python",
   "pygments_lexer": "ipython3",
   "version": "3.9.13"
  }
 },
 "nbformat": 4,
 "nbformat_minor": 5
}
